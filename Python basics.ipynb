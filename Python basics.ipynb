{
 "cells": [
  {
   "cell_type": "markdown",
   "metadata": {},
   "source": [
    "# Reversing the places of first name and last name"
   ]
  },
  {
   "cell_type": "code",
   "execution_count": null,
   "metadata": {},
   "outputs": [],
   "source": [
    "First_name= (input(\"enter a first name :\"))"
   ]
  },
  {
   "cell_type": "code",
   "execution_count": 5,
   "metadata": {},
   "outputs": [
    {
     "name": "stdout",
     "output_type": "stream",
     "text": [
      " Enter a last name mantri\n"
     ]
    }
   ],
   "source": [
    "Last_name=(input(\" Enter a last name :\"))"
   ]
  },
  {
   "cell_type": "code",
   "execution_count": 9,
   "metadata": {},
   "outputs": [
    {
     "name": "stdout",
     "output_type": "stream",
     "text": [
      "mantri pratik\n"
     ]
    }
   ],
   "source": [
    "print(Last_name +\" \"+ First_name)"
   ]
  },
  {
   "cell_type": "markdown",
   "metadata": {},
   "source": [
    "# Write numbers between 2000 to 3200 which are divisible by 5 but not the multiple of 7"
   ]
  },
  {
   "cell_type": "code",
   "execution_count": 14,
   "metadata": {},
   "outputs": [
    {
     "name": "stdout",
     "output_type": "stream",
     "text": [
      "[2000, 2005, 2010, 2015, 2020, 2025, 2035, 2040, 2045, 2050, 2055, 2060, 2070, 2075, 2080, 2085, 2090, 2095, 2105, 2110, 2115, 2120, 2125, 2130, 2140, 2145, 2150, 2155, 2160, 2165, 2175, 2180, 2185, 2190, 2195, 2200, 2210, 2215, 2220, 2225, 2230, 2235, 2245, 2250, 2255, 2260, 2265, 2270, 2280, 2285, 2290, 2295, 2300, 2305, 2315, 2320, 2325, 2330, 2335, 2340, 2350, 2355, 2360, 2365, 2370, 2375, 2385, 2390, 2395, 2400, 2405, 2410, 2420, 2425, 2430, 2435, 2440, 2445, 2455, 2460, 2465, 2470, 2475, 2480, 2490, 2495, 2500, 2505, 2510, 2515, 2525, 2530, 2535, 2540, 2545, 2550, 2560, 2565, 2570, 2575, 2580, 2585, 2595, 2600, 2605, 2610, 2615, 2620, 2630, 2635, 2640, 2645, 2650, 2655, 2665, 2670, 2675, 2680, 2685, 2690, 2700, 2705, 2710, 2715, 2720, 2725, 2735, 2740, 2745, 2750, 2755, 2760, 2770, 2775, 2780, 2785, 2790, 2795, 2805, 2810, 2815, 2820, 2825, 2830, 2840, 2845, 2850, 2855, 2860, 2865, 2875, 2880, 2885, 2890, 2895, 2900, 2910, 2915, 2920, 2925, 2930, 2935, 2945, 2950, 2955, 2960, 2965, 2970, 2980, 2985, 2990, 2995, 3000, 3005, 3015, 3020, 3025, 3030, 3035, 3040, 3050, 3055, 3060, 3065, 3070, 3075, 3085, 3090, 3095, 3100, 3105, 3110, 3120, 3125, 3130, 3135, 3140, 3145, 3155, 3160, 3165, 3170, 3175, 3180, 3190, 3195]\n"
     ]
    }
   ],
   "source": [
    "list=[x for x in range(2000,3200) if x%5==0 and x%7 !=0]\n",
    "print(list)"
   ]
  },
  {
   "cell_type": "markdown",
   "metadata": {},
   "source": [
    "# volume of sphere"
   ]
  },
  {
   "cell_type": "code",
   "execution_count": 17,
   "metadata": {},
   "outputs": [
    {
     "name": "stdout",
     "output_type": "stream",
     "text": [
      "the volume of sphere is 905.5998719999998\n"
     ]
    }
   ],
   "source": [
    "pi=3.144444\n",
    "r=6\n",
    "v=4/3*pi*r*r*r\n",
    "print(\"the volume of sphere is\",v)"
   ]
  },
  {
   "cell_type": "code",
   "execution_count": null,
   "metadata": {},
   "outputs": [],
   "source": []
  }
 ],
 "metadata": {
  "kernelspec": {
   "display_name": "Python 3",
   "language": "python",
   "name": "python3"
  },
  "language_info": {
   "codemirror_mode": {
    "name": "ipython",
    "version": 3
   },
   "file_extension": ".py",
   "mimetype": "text/x-python",
   "name": "python",
   "nbconvert_exporter": "python",
   "pygments_lexer": "ipython3",
   "version": "3.7.6"
  }
 },
 "nbformat": 4,
 "nbformat_minor": 4
}
